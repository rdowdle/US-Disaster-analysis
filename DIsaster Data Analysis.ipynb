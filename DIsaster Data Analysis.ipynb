{
 "cells": [
  {
   "cell_type": "markdown",
   "metadata": {},
   "source": [
    "Initialize data and provide a preview\n",
    "----------"
   ]
  },
  {
   "cell_type": "code",
   "execution_count": 31,
   "metadata": {},
   "outputs": [
    {
     "name": "stdout",
     "output_type": "stream",
     "text": [
      "Details \n",
      "   last_date_modified  last_date_certified  episode_id  event_id  \\\n",
      "0                NaN  08/04/2021 11:50:34      159374    963885   \n",
      "1                NaN  08/04/2021 11:50:34      159382    963893   \n",
      "2                NaN  08/04/2021 11:50:34      159382    963895   \n",
      "3                NaN  08/04/2021 11:50:34      159382    963897   \n",
      "4                NaN  08/04/2021 11:50:34      159382    963898   \n",
      "\n",
      "            state  state_fips  year month_name                event_type  \\\n",
      "0  GULF OF MEXICO          85  2021       July                Waterspout   \n",
      "1  GULF OF MEXICO          85  2021       July  Marine Thunderstorm Wind   \n",
      "2  GULF OF MEXICO          85  2021       July  Marine Thunderstorm Wind   \n",
      "3  GULF OF MEXICO          85  2021       July  Marine Thunderstorm Wind   \n",
      "4  GULF OF MEXICO          85  2021       July  Marine Thunderstorm Wind   \n",
      "\n",
      "  cz_type  ...  tor_f_scale tor_length tor_width tor_other_wfo  \\\n",
      "0       Z  ...          NaN        NaN       NaN           NaN   \n",
      "1       Z  ...          NaN        NaN       NaN           NaN   \n",
      "2       Z  ...          NaN        NaN       NaN           NaN   \n",
      "3       Z  ...          NaN        NaN       NaN           NaN   \n",
      "4       Z  ...          NaN        NaN       NaN           NaN   \n",
      "\n",
      "  tor_other_cz_state tor_other_cz_fips  tor_other_cz_name  \\\n",
      "0                NaN               NaN                NaN   \n",
      "1                NaN               NaN                NaN   \n",
      "2                NaN               NaN                NaN   \n",
      "3                NaN               NaN                NaN   \n",
      "4                NaN               NaN                NaN   \n",
      "\n",
      "                                       episode_title  \\\n",
      "0  07/21 - Morning shower spawns waterspout over ...   \n",
      "1  07/12 - Afternoon storms produce strong marine...   \n",
      "2  07/12 - Afternoon storms produce strong marine...   \n",
      "3  07/12 - Afternoon storms produce strong marine...   \n",
      "4  07/12 - Afternoon storms produce strong marine...   \n",
      "\n",
      "                                   episode_narrative  \\\n",
      "0  Waterspout formed over Tampa Bay in associatio...   \n",
      "1  Afternoon convection moving over Tampa Bay are...   \n",
      "2  Afternoon convection moving over Tampa Bay are...   \n",
      "3  Afternoon convection moving over Tampa Bay are...   \n",
      "4  Afternoon convection moving over Tampa Bay are...   \n",
      "\n",
      "                                     event_narrative  \n",
      "0  Broadcast media relayed images and video share...  \n",
      "1  ASOS site KPIE St. Petersburg-Clearwater Inter...  \n",
      "2  ASOS site KTPA Tampa International Airport rep...  \n",
      "3  Mesonet site near Clearwater Beach reported a ...  \n",
      "4  AWOS site KMCF MacDill Air Force Base reported...  \n",
      "\n",
      "[5 rows x 37 columns] \n",
      " 7642 \n",
      " ------------------- \n",
      " -------------------\n",
      "Locations \n",
      "    episode_id  event_id  location_index  range azimuth             location  \\\n",
      "0      158360    957393               1   1.35      SW  BLACKSBURG VPI ARPT   \n",
      "1      158360    957394               1   0.57      NW  BLACKSBURG VPI ARPT   \n",
      "2      158360    957401               1   1.16       W         LUSTERS GATE   \n",
      "3      158360    957403               1   0.09     WNW  BLACKSBURG VPI ARPT   \n",
      "4      158360    957405               1   0.80      SW           BLACKSBURG   \n",
      "\n",
      "       lat      lon  \n",
      "0  37.2041 -80.4143  \n",
      "1  37.2264 -80.4064  \n",
      "2  37.2476 -80.3909  \n",
      "3  37.2205 -80.4015  \n",
      "4  37.2229 -80.4314   \n",
      " 11418 \n",
      " ------------------- \n",
      " -------------------\n",
      "Fatalities \n",
      "    fatality_id  event_id fatality_type        fatality_date  fatality_age  \\\n",
      "0        44140    960613             D  07/16/2021 00:00:00          71.0   \n",
      "1        43206    961309             I  07/20/2021 00:00:00          32.0   \n",
      "2        43207    961309             I  07/20/2021 00:00:00          31.0   \n",
      "3        43208    961309             I  07/20/2021 00:00:00           NaN   \n",
      "4        43215    962841             I  07/07/2021 00:00:00          47.0   \n",
      "\n",
      "  fatality_sex      fatality_location  \n",
      "0            M                Golfing  \n",
      "1            M                  Other  \n",
      "2            M                  Other  \n",
      "3            M                  Other  \n",
      "4            M  Vehicle/Towed Trailer   \n",
      " 53 \n",
      " ------------------- \n",
      " -------------------\n",
      "------------------- \n",
      " ------------------- \n",
      " ------------------- \n",
      "\n",
      "last_date_modified                                                   NaN\n",
      "last_date_certified                                  08/13/2021 12:45:32\n",
      "episode_id                                                        158635\n",
      "event_id                                                          959351\n",
      "state                                                        MISSISSIPPI\n",
      "state_fips                                                            28\n",
      "year                                                                2021\n",
      "month_name                                                          July\n",
      "event_type                                                   Flash Flood\n",
      "cz_type                                                                C\n",
      "cz_fips                                                               49\n",
      "cz_name                                                            HINDS\n",
      "wfo                                                                  JAN\n",
      "begin_date_time                                      07/07/2021 14:09:00\n",
      "cz_timezone                                                        CST-6\n",
      "end_date_time                                        07/07/2021 16:00:00\n",
      "injuries_direct                                                        0\n",
      "injuries_indirect                                                      0\n",
      "deaths_direct                                                          0\n",
      "deaths_indirect                                                        0\n",
      "damage_property                                                   35.00K\n",
      "damage_crops                                                       0.00K\n",
      "source                                                   Broadcast Media\n",
      "magnitude                                                            NaN\n",
      "magnitude_type                                                       NaN\n",
      "flood_cause                                                   Heavy Rain\n",
      "category                                                             NaN\n",
      "tor_f_scale                                                          NaN\n",
      "tor_length                                                           NaN\n",
      "tor_width                                                            NaN\n",
      "tor_other_wfo                                                        NaN\n",
      "tor_other_cz_state                                                   NaN\n",
      "tor_other_cz_fips                                                    NaN\n",
      "tor_other_cz_name                                                    NaN\n",
      "episode_title                                          July 7th flooding\n",
      "episode_narrative      A moist airmass was in place and contributed t...\n",
      "event_narrative        Street flooding occurred around Clinton and wa...\n",
      "Name: 20, dtype: object \n",
      " ------------------- \n",
      " ------------------- \n",
      "\n",
      "episode_id         158360\n",
      "event_id           971793\n",
      "location_index          1\n",
      "range                2.03\n",
      "azimuth               SSW\n",
      "location          KOEHLER\n",
      "lat               36.6518\n",
      "lon              -79.9099\n",
      "Name: 20, dtype: object \n",
      " ------------------- \n",
      " ------------------- \n",
      "\n",
      "fatality_id                          44196\n",
      "event_id                            974349\n",
      "fatality_type                            D\n",
      "fatality_date          07/25/2021 00:00:00\n",
      "fatality_age                            30\n",
      "fatality_sex                             F\n",
      "fatality_location    Vehicle/Towed Trailer\n",
      "Name: 20, dtype: object\n"
     ]
    }
   ],
   "source": [
    "import pandas as pd\n",
    "import numpy as np\n",
    "import seaborn as sns\n",
    "import matplotlib.pyplot as plt\n",
    "#from matplotlib.pyplot import figure\n",
    "import pprint\n",
    "\n",
    "details = pd.read_csv('details_c.csv')\n",
    "locations = pd.read_csv('locations_c.csv')\n",
    "fatalities = pd.read_csv('fatalities_c.csv')\n",
    "\n",
    "print('Details', '\\n', details.head(), \"\\n\", len(details), \"\\n\", '-------------------', \"\\n\", '-------------------')\n",
    "print('Locations', '\\n', locations.head(), \"\\n\", len(locations), \"\\n\",  '-------------------', \"\\n\", '-------------------')\n",
    "print('Fatalities', '\\n', fatalities.head(), \"\\n\", len(fatalities), \"\\n\", '-------------------', \"\\n\", '-------------------')\n",
    "\n",
    "print('-------------------', \"\\n\", '-------------------', \"\\n\", '-------------------', \"\\n\")\n",
    "print(details.loc[20], '\\n', '-------------------', \"\\n\", '-------------------', \"\\n\")\n",
    "print(locations.loc[20], '\\n', '-------------------', \"\\n\", '-------------------', \"\\n\")\n",
    "print(fatalities.loc[20])"
   ]
  },
  {
   "cell_type": "code",
   "execution_count": 44,
   "metadata": {},
   "outputs": [
    {
     "name": "stdout",
     "output_type": "stream",
     "text": [
      "GULF OF MEXICO\n",
      "FLORIDA\n",
      "CALIFORNIA\n",
      "NEVADA\n",
      "NEW YORK\n",
      "VERMONT\n",
      "MISSISSIPPI\n",
      "LOUISIANA\n",
      "GEORGIA\n",
      "ATLANTIC SOUTH\n",
      "ILLINOIS\n",
      "KANSAS\n",
      "MISSOURI\n",
      "TEXAS\n",
      "MICHIGAN\n",
      "LAKE MICHIGAN\n",
      "LAKE SUPERIOR\n",
      "NEBRASKA\n",
      "IOWA\n",
      "SOUTH CAROLINA\n",
      "OKLAHOMA\n",
      "ARKANSAS\n",
      "NEW MEXICO\n",
      "INDIANA\n",
      "KENTUCKY\n",
      "OHIO\n",
      "IDAHO\n",
      "CONNECTICUT\n",
      "MASSACHUSETTS\n",
      "RHODE ISLAND\n",
      "MINNESOTA\n",
      "COLORADO\n",
      "UTAH\n",
      "MONTANA\n",
      "OREGON\n",
      "WISCONSIN\n",
      "ALABAMA\n",
      "NORTH CAROLINA\n",
      "PENNSYLVANIA\n",
      "HAWAII\n",
      "TENNESSEE\n",
      "LAKE ST CLAIR\n",
      "LAKE HURON\n",
      "LAKE ONTARIO\n",
      "ST LAWRENCE R\n",
      "LAKE ERIE\n",
      "NORTH DAKOTA\n",
      "NEW JERSEY\n",
      "MARYLAND\n",
      "DELAWARE\n",
      "ARIZONA\n",
      "PUERTO RICO\n",
      "VIRGINIA\n",
      "DISTRICT OF COLUMBIA\n",
      "ATLANTIC NORTH\n",
      "WEST VIRGINIA\n",
      "WASHINGTON\n",
      "SOUTH DAKOTA\n",
      "WYOMING\n",
      "MAINE\n",
      "NEW HAMPSHIRE\n",
      "['July']\n"
     ]
    }
   ],
   "source": [
    "unique_states = (details.state.unique())\n",
    "for i in range(len(unique_states)): print(unique_states[i])\n",
    "\n",
    "print(details.month_name.unique())"
   ]
  },
  {
   "cell_type": "code",
   "execution_count": 2,
   "metadata": {},
   "outputs": [
    {
     "name": "stdout",
     "output_type": "stream",
     "text": [
      "Number of unique fatality events:  28\n",
      "Number of unique storms:  1350\n",
      "Number of unique locations:  5008\n"
     ]
    }
   ],
   "source": [
    "print('Number of unique fatality events: ', fatalities.event_id.nunique())\n",
    "print('Number of unique storms: ', details.episode_id.nunique())\n",
    "print('Number of unique locations: ', locations.location.nunique())\n",
    "#print(details.head(0))"
   ]
  },
  {
   "cell_type": "markdown",
   "metadata": {},
   "source": [
    "Analysis by of storm type vs. damage costs\n",
    "----------"
   ]
  },
  {
   "cell_type": "code",
   "execution_count": 3,
   "metadata": {},
   "outputs": [],
   "source": [
    "costs_breakdown = pd.DataFrame(columns = ['storm_type', 'damage_property', 'damage_crops', 'event_id'])\n",
    "\n",
    "for i in range(len(details)):\n",
    "    prop, crops = 0, 0\n",
    "    temp_val = []\n",
    "    val_p = details.damage_property.loc[i]\n",
    "    val_c = details.damage_crops.loc[i]\n",
    "    if pd.isna(val_p) is True: prop = 0\n",
    "    elif val_p[-1] == 'K':\n",
    "        temp_val = float(val_p.replace('K', ''))\n",
    "        prop = temp_val * 1000\n",
    "    elif val_p[-1] == 'M':\n",
    "        temp_val = float(val_p.replace('M', ''))\n",
    "        prop = temp_val * 1000000\n",
    "    else: prop = val_p\n",
    "    \n",
    "    if pd.isna(val_c) is True: crops = 0\n",
    "    elif val_c[-1] == 'K':\n",
    "        temp_val = float(val_c.replace('K', ''))\n",
    "        crops = temp_val * 1000\n",
    "    elif val_c[-1] == 'M':\n",
    "        temp_val = float(val_c.replace('M', ''))\n",
    "        crops = temp_val * 1000000\n",
    "    else: crops = val_c\n",
    "    \n",
    "    costs_breakdown = costs_breakdown.append({'storm_type': details.event_type.loc[i], 'damage_property': prop, 'damage_crops': crops, 'event_id': details.event_id[i]}, ignore_index = True)\n",
    "\n",
    "#print(costs_breakdown[costs_breakdown['storm_type'] == 'Waterspout'])"
   ]
  },
  {
   "cell_type": "code",
   "execution_count": 4,
   "metadata": {},
   "outputs": [
    {
     "name": "stdout",
     "output_type": "stream",
     "text": [
      "                    storm_type num_storm_total num_storm_with_damage\n",
      "0                   Waterspout              35                     0\n",
      "1     Marine Thunderstorm Wind             428                     1\n",
      "2            Thunderstorm Wind            3358                  1636\n",
      "3                        Flood             216                    43\n",
      "4                   Dust Storm              25                     1\n",
      "5                  Flash Flood            1089                   422\n",
      "6                   Heavy Rain             335                     6\n",
      "7               Tropical Storm              95                    44\n",
      "8                      Tornado             120                    52\n",
      "9        Marine Tropical Storm              54                     0\n",
      "10                        Hail             757                    20\n",
      "11                   Lightning              57                    42\n",
      "12                 Rip Current              12                     0\n",
      "13              Excessive Heat             167                     0\n",
      "14                    Wildfire              50                     4\n",
      "15                 Strong Wind              12                     4\n",
      "16                        Heat             329                     0\n",
      "17         Tropical Depression              14                     0\n",
      "18                     Drought             357                     0\n",
      "19                 Debris Flow              57                    33\n",
      "20                Funnel Cloud              32                     0\n",
      "21                   High Wind               7                     1\n",
      "22                   High Surf              20                     0\n",
      "23               Coastal Flood               2                     0\n",
      "24                 Marine Hail               1                     0\n",
      "25            Storm Surge/Tide               7                     0\n",
      "26  Marine Tropical Depression               6                     0\n"
     ]
    }
   ],
   "source": [
    "storm_types = (costs_breakdown.storm_type.unique())\n",
    "damage_avg = pd.DataFrame(columns = ['storm_type', 'property_damage_avg', 'crop_damage_avg', 'num_storm_total', 'num_storm_no_damage', 'num_storm_with_damage', 'prct_damage'])\n",
    "damaging_storms_avg = pd.DataFrame(columns = ['storm_type', 'property_damage_avg', 'crop_damage_avg'])\n",
    "\n",
    "for storm in storm_types:\n",
    "    x = 0\n",
    "    n = len(costs_breakdown[costs_breakdown['storm_type'] == storm])\n",
    "    storm_data = costs_breakdown[costs_breakdown['storm_type'] == storm].reset_index(drop = True)\n",
    "    prop_avg = round(sum(costs_breakdown.damage_property[costs_breakdown['storm_type'] == storm])/n, 2)\n",
    "    crop_avg = round(sum(costs_breakdown.damage_crops[costs_breakdown['storm_type'] == storm])/n, 2)\n",
    "    \n",
    "    for i in range(len(costs_breakdown[costs_breakdown['storm_type'] == storm])): \n",
    "        #if storm == 'Waterspout': print(storm_data)\n",
    "        if storm_data.damage_property.loc[i] > 0 or storm_data.damage_crops.loc[i] > 0: x += 1\n",
    "    \n",
    "    damage_avg = damage_avg.append({'storm_type': storm, 'property_damage_avg': prop_avg, 'crop_damage_avg': crop_avg, 'num_storm_total': n, 'num_storm_no_damage': n-x, 'num_storm_with_damage': x, 'prct_damage': round((x/n)*100, 2)}, ignore_index = True)\n",
    "\n",
    "#####\n",
    "damaging_storms_numbers = pd.DataFrame(columns = ['storm_type', 'num_storm_total', 'num_storm_with_damage'])\n",
    "for i in range(len(damage_avg)):\n",
    "    if damage_avg.property_damage_avg.loc[i] == 0 and damage_avg.crop_damage_avg.loc[i] == 0: pass\n",
    "    else: damaging_storms_avg = damaging_storms_avg.append({'storm_type': damage_avg.storm_type.loc[i], 'property_damage_avg': damage_avg.property_damage_avg.loc[i], 'crop_damage_avg': damage_avg.crop_damage_avg.loc[i]}, ignore_index = True)\n",
    "    \n",
    "    damaging_storms_numbers = damaging_storms_numbers.append({'storm_type': damage_avg.storm_type.loc[i], 'num_storm_total': damage_avg.num_storm_total.loc[i], 'num_storm_with_damage': damage_avg.num_storm_with_damage.loc[i]}, ignore_index = True)\n",
    "\n",
    "#print(damaging_storms_avg)#.sort_values(by=['property_damage_avg', 'crop_damage_avg'], ascending = False))\n",
    "#print(damage_avg.sort_values(by=['prct_damage'], ascending = False))\n",
    "print(damaging_storms_numbers)"
   ]
  },
  {
   "cell_type": "markdown",
   "metadata": {},
   "source": [
    "Analysis by of storm type vs. fatalities\n",
    "----------"
   ]
  },
  {
   "cell_type": "code",
   "execution_count": 5,
   "metadata": {},
   "outputs": [
    {
     "name": "stdout",
     "output_type": "stream",
     "text": [
      "              storm_type number_fatalities unique_events\n",
      "3            Flash Flood                10             5\n",
      "0  Marine Tropical Storm                 9             1\n",
      "9             Dust Storm                 8             1\n",
      "1                   Heat                 7             5\n",
      "4             Heavy Rain                 5             2\n",
      "5              Lightning                 5             5\n",
      "2            Rip Current                 3             3\n",
      "7      Thunderstorm Wind                 3             3\n",
      "6               Wildfire                 2             2\n",
      "8                  Flood                 1             1\n"
     ]
    }
   ],
   "source": [
    "fatality_details = details.merge(fatalities, on='event_id', how = 'inner')\n",
    "fatality_storm_types = fatality_details.event_type.unique()\n",
    "killer_storm_breakdown = pd.DataFrame(columns = ['storm_type', 'number_fatalities', 'unique_events'])\n",
    "\n",
    "for storm in fatality_storm_types:\n",
    "    n = len(fatality_details[fatality_details['event_type'] == storm])\n",
    "    killer_storm_breakdown = killer_storm_breakdown.append({'storm_type': storm, 'number_fatalities': n, 'unique_events': fatality_details.event_id[fatality_details['event_type'] == storm].nunique()}, ignore_index = True)\n",
    "#    print('Number of unique', storm, 'events: ', fatality_details.event_id[fatality_details['event_type'] == storm].nunique())\n",
    "    \n",
    "print(killer_storm_breakdown.sort_values(by = 'number_fatalities', ascending = False))\n",
    "\n"
   ]
  },
  {
   "cell_type": "code",
   "execution_count": 6,
   "metadata": {},
   "outputs": [
    {
     "name": "stdout",
     "output_type": "stream",
     "text": [
      "Most fatal single event: Tropical Storm Elsa over the Florida Keys Coastal Waters\n"
     ]
    }
   ],
   "source": [
    "#print(fatality_details)\n",
    "fatal_id = 0\n",
    "num_fatalities = 0\n",
    "event_name = ''\n",
    "for i in range(len(fatality_details)):\n",
    "    if num_fatalities < len(fatality_details[fatality_details['episode_id'] == fatality_details.episode_id.loc[i]]):\n",
    "        fatal_id = fatality_details.episode_id.loc[i]\n",
    "        num_fatalities = len(fatality_details[fatality_details['episode_id'] == fatality_details.episode_id.loc[i]])\n",
    "        event_name = fatality_details.episode_title.loc[i]\n",
    "    \n",
    "print('Most fatal single event:', event_name)"
   ]
  },
  {
   "cell_type": "code",
   "execution_count": 7,
   "metadata": {},
   "outputs": [],
   "source": [
    "storm_types = details.event_type.unique()\n",
    "#print(storm_types)\n",
    "no_fatalities = []\n",
    "\n",
    "for storm in storm_types:\n",
    "    x = 0\n",
    "    for i in range(len(fatality_storm_types)):\n",
    "        if fatality_storm_types[i] == storm: x = 1\n",
    "    if x == 0: no_fatalities.append(storm)\n",
    "        \n",
    "\n",
    "#print('Storms with no fatalities:')\n",
    "#for item in no_fatalities: print(item)\n",
    "\n",
    "damages_and_death = pd.DataFrame(columns = ['Storm_type', \"Numer_of_events\", 'Property_damages', 'Crop_damages', 'Deaths'])\n",
    "\n",
    "for item in storm_types:\n",
    "    storm_count, prop_count, crop_count, death_count = 0, 0, 0, 0\n",
    "    unique_items = []\n",
    "    "
   ]
  },
  {
   "cell_type": "markdown",
   "metadata": {},
   "source": [
    "Area with the most storms\n",
    "----------"
   ]
  },
  {
   "cell_type": "code",
   "execution_count": 8,
   "metadata": {},
   "outputs": [
    {
     "name": "stdout",
     "output_type": "stream",
     "text": [
      "            state num_of_events\n",
      "13          TEXAS            67\n",
      "38   PENNSYLVANIA            58\n",
      "31       COLORADO            54\n",
      "4        NEW YORK            50\n",
      "50        ARIZONA            48\n",
      "..            ...           ...\n",
      "41  LAKE ST CLAIR             4\n",
      "16  LAKE SUPERIOR             3\n",
      "44  ST LAWRENCE R             2\n",
      "43   LAKE ONTARIO             2\n",
      "29   RHODE ISLAND             2\n",
      "\n",
      "[61 rows x 2 columns]\n"
     ]
    }
   ],
   "source": [
    "states = details.state.unique()\n",
    "location_breakdown = pd.DataFrame(columns = ['state', 'num_of_events'])\n",
    "for location in states:\n",
    "    #print(details[details['state'] == location].nunique())\n",
    "    location_breakdown = location_breakdown.append({'state': location, 'num_of_events': details.episode_id[details['state'] == location].nunique()}, ignore_index = True)\n",
    "\n",
    "print(location_breakdown.sort_values(by = 'num_of_events', ascending = False))\n"
   ]
  },
  {
   "cell_type": "markdown",
   "metadata": {},
   "source": [
    "Most common storm type\n",
    "---"
   ]
  },
  {
   "cell_type": "code",
   "execution_count": 48,
   "metadata": {},
   "outputs": [
    {
     "name": "stdout",
     "output_type": "stream",
     "text": [
      "                    event_type number_of_events\n",
      "2            Thunderstorm Wind              626\n",
      "5                  Flash Flood              326\n",
      "10                        Hail              250\n",
      "1     Marine Thunderstorm Wind              117\n",
      "3                        Flood              104\n",
      "6                   Heavy Rain               57\n",
      "8                      Tornado               52\n",
      "11                   Lightning               52\n",
      "16                        Heat               48\n",
      "18                     Drought               43\n",
      "14                    Wildfire               41\n",
      "13              Excessive Heat               27\n",
      "19                 Debris Flow               27\n",
      "20                Funnel Cloud               26\n",
      "0                   Waterspout               26\n",
      "7               Tropical Storm               17\n",
      "9        Marine Tropical Storm               13\n",
      "12                 Rip Current               11\n",
      "4                   Dust Storm               11\n",
      "15                 Strong Wind                8\n",
      "17         Tropical Depression                3\n",
      "21                   High Wind                3\n",
      "23               Coastal Flood                2\n",
      "25            Storm Surge/Tide                2\n",
      "26  Marine Tropical Depression                2\n",
      "22                   High Surf                1\n",
      "24                 Marine Hail                1\n"
     ]
    }
   ],
   "source": [
    "common_events = pd.DataFrame(columns = ['event_type', 'number_of_events'])\n",
    "\n",
    "for item in storm_types: common_events = common_events.append({'event_type': item, 'number_of_events': details.episode_id[details['event_type'] == item].nunique()}, ignore_index = True)\n",
    "    \n",
    "print(common_events.sort_values(by = 'number_of_events', ascending = False))"
   ]
  },
  {
   "cell_type": "markdown",
   "metadata": {},
   "source": [
    "Graphs\n",
    "---"
   ]
  },
  {
   "cell_type": "code",
   "execution_count": 47,
   "metadata": {},
   "outputs": [
    {
     "data": {
      "image/png": "[encoded data removed]",
      "text/plain": [
       "<Figure size 720x504 with 1 Axes>"
      ]
     },
     "metadata": {
      "needs_background": "light"
     },
     "output_type": "display_data"
    },
    {
     "data": {
      "text/plain": [
       "<Figure size 432x288 with 0 Axes>"
      ]
     },
     "metadata": {},
     "output_type": "display_data"
    }
   ],
   "source": [
    "#Damaging events\n",
    "damaging_storms_avg = damaging_storms_avg.sort_values(by = ['property_damage_avg', 'crop_damage_avg'], ascending = False)\n",
    "dam_storm_types = damaging_storms_avg['storm_type'].array\n",
    "legend_damages_costs = ['Property Damage Average', 'Crop Damage Average']\n",
    "\n",
    "damaging_storms_avg.plot(kind = 'bar', figsize = (10, 7))\n",
    "plt.title('Damaging Weather Events (logrithimc scale)')\n",
    "plt.yscale('log')\n",
    "plt.ylabel('Total damages in Dollars')\n",
    "plt.xlabel('Weather Event types')\n",
    "plt.grid(axis = 'y')\n",
    "plt.legend(legend_damages_costs)\n",
    "plt.xticks(ticks = range(len(dam_storm_types)), labels = dam_storm_types)\n",
    "plt.savefig('Damages Costs.png', bbox_inches = 'tight')\n",
    "plt.show()\n",
    "plt.clf()"
   ]
  },
  {
   "cell_type": "code",
   "execution_count": 27,
   "metadata": {},
   "outputs": [
    {
     "data": {
      "image/png": "[encoded data removed]",
      "text/plain": [
       "<Figure size 720x504 with 1 Axes>"
      ]
     },
     "metadata": {
      "needs_background": "light"
     },
     "output_type": "display_data"
    },
    {
     "data": {
      "text/plain": [
       "<Figure size 432x288 with 0 Axes>"
      ]
     },
     "metadata": {},
     "output_type": "display_data"
    }
   ],
   "source": [
    "#Damaging events numbers\n",
    "damaging_storms_numbers = damaging_storms_numbers.sort_values(by=['num_storm_with_damage', 'num_storm_total'], ascending = False)#.reset_index()\n",
    "dam_storm_num = damaging_storms_numbers.storm_type.array\n",
    "legend_damage_totals = ['Total Number of Events', 'Number of Events with Damages']\n",
    "\n",
    "#plt.figure(figsize = (15, 10))\n",
    "damaging_storms_numbers.plot(kind = 'bar', figsize = (10, 7))\n",
    "plt.title('Damaging Weather Events (logrithimc scale)')\n",
    "plt.yscale('log')\n",
    "plt.ylabel('Number of Events')\n",
    "plt.xlabel('Weather Event types')\n",
    "plt.legend(legend_damage_totals)\n",
    "plt.grid(axis = 'y')\n",
    "plt.xticks(ticks = range(len(dam_storm_num)), labels = dam_storm_num)\n",
    "plt.savefig('Damage Totals.png', bbox_inches = 'tight')\n",
    "plt.show()\n",
    "plt.clf()"
   ]
  },
  {
   "cell_type": "code",
   "execution_count": 50,
   "metadata": {},
   "outputs": [
    {
     "data": {
      "image/png": "[encoded data removed]",
      "text/plain": [
       "<Figure size 720x504 with 1 Axes>"
      ]
     },
     "metadata": {
      "needs_background": "light"
     },
     "output_type": "display_data"
    }
   ],
   "source": [
    "#Fatal events\n",
    "killer_storm_breakdown = killer_storm_breakdown.sort_values(by = 'number_fatalities', ascending = False)\n",
    "fatal_storms = killer_storm_breakdown['storm_type'].array\n",
    "legend_fatal_counts = ['Number of Fatalaties', 'Unique Events']\n",
    "\n",
    "killer_storm_breakdown.plot(kind = 'bar', figsize = (10, 7))#, color = 'green', 'magenta')\n",
    "plt.grid(axis = 'y')\n",
    "plt.title('Fatal Weather Events')\n",
    "plt.ylabel('Number of Fatalities')\n",
    "plt.legend(legend_fatal_counts)\n",
    "plt.xticks(ticks = range(len(fatal_storms)), labels = fatal_storms)\n",
    "plt.savefig('Fatal Counts.png', bbox_inches = 'tight')\n",
    "plt.show()"
   ]
  },
  {
   "cell_type": "code",
   "execution_count": null,
   "metadata": {},
   "outputs": [],
   "source": []
  }
 ],
 "metadata": {
  "kernelspec": {
   "display_name": "Python 3",
   "language": "python",
   "name": "python3"
  },
  "language_info": {
   "codemirror_mode": {
    "name": "ipython",
    "version": 3
   },
   "file_extension": ".py",
   "mimetype": "text/x-python",
   "name": "python",
   "nbconvert_exporter": "python",
   "pygments_lexer": "ipython3",
   "version": "3.8.5"
  }
 },
 "nbformat": 4,
 "nbformat_minor": 4
}
