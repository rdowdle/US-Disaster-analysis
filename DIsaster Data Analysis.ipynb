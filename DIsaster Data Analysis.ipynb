{
 "cells": [
  {
   "cell_type": "code",
   "execution_count": 7,
   "metadata": {},
   "outputs": [
    {
     "name": "stdout",
     "output_type": "stream",
     "text": [
      "Details \n",
      "   last_date_modified  last_date_certified  episode_id  event_id  \\\n",
      "0                NaN  08/04/2021 11:50:34      159374    963885   \n",
      "1                NaN  08/04/2021 11:50:34      159382    963893   \n",
      "2                NaN  08/04/2021 11:50:34      159382    963895   \n",
      "3                NaN  08/04/2021 11:50:34      159382    963897   \n",
      "4                NaN  08/04/2021 11:50:34      159382    963898   \n",
      "\n",
      "            state  state_fips  year month_name                event_type  \\\n",
      "0  GULF OF MEXICO          85  2021       July                Waterspout   \n",
      "1  GULF OF MEXICO          85  2021       July  Marine Thunderstorm Wind   \n",
      "2  GULF OF MEXICO          85  2021       July  Marine Thunderstorm Wind   \n",
      "3  GULF OF MEXICO          85  2021       July  Marine Thunderstorm Wind   \n",
      "4  GULF OF MEXICO          85  2021       July  Marine Thunderstorm Wind   \n",
      "\n",
      "  cz_type  ...  tor_f_scale tor_length tor_width tor_other_wfo  \\\n",
      "0       Z  ...          NaN        NaN       NaN           NaN   \n",
      "1       Z  ...          NaN        NaN       NaN           NaN   \n",
      "2       Z  ...          NaN        NaN       NaN           NaN   \n",
      "3       Z  ...          NaN        NaN       NaN           NaN   \n",
      "4       Z  ...          NaN        NaN       NaN           NaN   \n",
      "\n",
      "  tor_other_cz_state tor_other_cz_fips  tor_other_cz_name  \\\n",
      "0                NaN               NaN                NaN   \n",
      "1                NaN               NaN                NaN   \n",
      "2                NaN               NaN                NaN   \n",
      "3                NaN               NaN                NaN   \n",
      "4                NaN               NaN                NaN   \n",
      "\n",
      "                                       episode_title  \\\n",
      "0  07/21 - Morning shower spawns waterspout over ...   \n",
      "1  07/12 - Afternoon storms produce strong marine...   \n",
      "2  07/12 - Afternoon storms produce strong marine...   \n",
      "3  07/12 - Afternoon storms produce strong marine...   \n",
      "4  07/12 - Afternoon storms produce strong marine...   \n",
      "\n",
      "                                   episode_narrative  \\\n",
      "0  Waterspout formed over Tampa Bay in associatio...   \n",
      "1  Afternoon convection moving over Tampa Bay are...   \n",
      "2  Afternoon convection moving over Tampa Bay are...   \n",
      "3  Afternoon convection moving over Tampa Bay are...   \n",
      "4  Afternoon convection moving over Tampa Bay are...   \n",
      "\n",
      "                                     event_narrative  \n",
      "0  Broadcast media relayed images and video share...  \n",
      "1  ASOS site KPIE St. Petersburg-Clearwater Inter...  \n",
      "2  ASOS site KTPA Tampa International Airport rep...  \n",
      "3  Mesonet site near Clearwater Beach reported a ...  \n",
      "4  AWOS site KMCF MacDill Air Force Base reported...  \n",
      "\n",
      "[5 rows x 37 columns] \n",
      " 7642 \n",
      " ------------------- \n",
      " -------------------\n",
      "Locations \n",
      "    episode_id  event_id  location_index  range azimuth             location  \\\n",
      "0      158360    957393               1   1.35      SW  BLACKSBURG VPI ARPT   \n",
      "1      158360    957394               1   0.57      NW  BLACKSBURG VPI ARPT   \n",
      "2      158360    957401               1   1.16       W         LUSTERS GATE   \n",
      "3      158360    957403               1   0.09     WNW  BLACKSBURG VPI ARPT   \n",
      "4      158360    957405               1   0.80      SW           BLACKSBURG   \n",
      "\n",
      "       lat      lon  \n",
      "0  37.2041 -80.4143  \n",
      "1  37.2264 -80.4064  \n",
      "2  37.2476 -80.3909  \n",
      "3  37.2205 -80.4015  \n",
      "4  37.2229 -80.4314   \n",
      " 11418 \n",
      " ------------------- \n",
      " -------------------\n",
      "Fatalities \n",
      "    fatality_id  event_id fatality_type        fatality_date  fatality_age  \\\n",
      "0        44140    960613             D  07/16/2021 00:00:00          71.0   \n",
      "1        43206    961309             I  07/20/2021 00:00:00          32.0   \n",
      "2        43207    961309             I  07/20/2021 00:00:00          31.0   \n",
      "3        43208    961309             I  07/20/2021 00:00:00           NaN   \n",
      "4        43215    962841             I  07/07/2021 00:00:00          47.0   \n",
      "\n",
      "  fatality_sex      fatality_location  \n",
      "0            M                Golfing  \n",
      "1            M                  Other  \n",
      "2            M                  Other  \n",
      "3            M                  Other  \n",
      "4            M  Vehicle/Towed Trailer   \n",
      " 53 \n",
      " ------------------- \n",
      " -------------------\n"
     ]
    }
   ],
   "source": [
    "import pandas as pd\n",
    "import numpy as np\n",
    "import seaborn as sns\n",
    "import matplotlib.pyplot as plt\n",
    "import pprint\n",
    "\n",
    "details = pd.read_csv('details_c.csv')\n",
    "locations = pd.read_csv('locations_c.csv')\n",
    "fatalities = pd.read_csv('fatalities_c.csv')\n",
    "\n",
    "print('Details', '\\n', details.head(), \"\\n\", len(details), \"\\n\", '-------------------', \"\\n\", '-------------------')\n",
    "print('Locations', '\\n', locations.head(), \"\\n\", len(locations), \"\\n\",  '-------------------', \"\\n\", '-------------------')\n",
    "print('Fatalities', '\\n', fatalities.head(), \"\\n\", len(fatalities), \"\\n\", '-------------------', \"\\n\", '-------------------')\n"
   ]
  },
  {
   "cell_type": "code",
   "execution_count": 13,
   "metadata": {},
   "outputs": [
    {
     "name": "stdout",
     "output_type": "stream",
     "text": [
      "Number of unique fatality events:  28\n",
      "Number of unique storms;  7642\n"
     ]
    }
   ],
   "source": [
    "print('Number of unique fatality events: ', fatalities.event_id.nunique())\n",
    "print('Number of unique storms; ', details.event_id.nunique())"
   ]
  }
 ],
 "metadata": {
  "kernelspec": {
   "display_name": "Python 3",
   "language": "python",
   "name": "python3"
  },
  "language_info": {
   "codemirror_mode": {
    "name": "ipython",
    "version": 3
   },
   "file_extension": ".py",
   "mimetype": "text/x-python",
   "name": "python",
   "nbconvert_exporter": "python",
   "pygments_lexer": "ipython3",
   "version": "3.8.5"
  }
 },
 "nbformat": 4,
 "nbformat_minor": 4
}
